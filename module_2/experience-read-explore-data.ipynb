{
 "cells": [
  {
   "cell_type": "markdown",
   "id": "b75ccab0",
   "metadata": {},
   "source": [
    "### NAME: Justin Honda\n",
    "### EXPERIENCE: Graph data with pandas\n",
    "### DATE: January 23, 2022\n",
    "### ASSIGNMENT: Reproduce figure 2.3 from chapter 2 of the textbook"
   ]
  },
  {
   "cell_type": "markdown",
   "id": "d88e60c3",
   "metadata": {},
   "source": [
    "##### Import necessary libraries"
   ]
  },
  {
   "cell_type": "code",
   "execution_count": 12,
   "id": "a07b7b2e",
   "metadata": {},
   "outputs": [],
   "source": [
    "from pandas import DataFrame, Series\n",
    "import pandas as pd\n",
    "import json\n",
    "import numpy as np"
   ]
  },
  {
   "cell_type": "markdown",
   "id": "c9e68829",
   "metadata": {},
   "source": [
    "##### Read in the data from 'example.txt' stored in the 'data' directory"
   ]
  },
  {
   "cell_type": "code",
   "execution_count": 13,
   "id": "1d8d81ba",
   "metadata": {},
   "outputs": [],
   "source": [
    "path = 'data/example.txt'\n",
    "records = [json.loads(line) for line in open(path)]"
   ]
  },
  {
   "cell_type": "markdown",
   "id": "cb6d0fb0",
   "metadata": {},
   "source": [
    "##### Create pandas dataframe out of the data the we just read in called 'frame'"
   ]
  },
  {
   "cell_type": "code",
   "execution_count": 14,
   "id": "64a7fee0",
   "metadata": {},
   "outputs": [],
   "source": [
    "frame = DataFrame(records)"
   ]
  },
  {
   "cell_type": "markdown",
   "id": "963c8cae",
   "metadata": {},
   "source": [
    "##### Filter the original data and create a new dataframe that does not contain null entries in the 'a' column"
   ]
  },
  {
   "cell_type": "code",
   "execution_count": 15,
   "id": "5ca693bf",
   "metadata": {},
   "outputs": [],
   "source": [
    "cframe = frame[frame.a.notnull()]"
   ]
  },
  {
   "cell_type": "markdown",
   "id": "1ce9d807",
   "metadata": {},
   "source": [
    "##### Create a numpy array that indicates if each entry is Windown or not, annotate 'Windows' or \"Not Windows'"
   ]
  },
  {
   "cell_type": "code",
   "execution_count": 5,
   "id": "1cbba980",
   "metadata": {},
   "outputs": [],
   "source": [
    "operating_system = np.where(cframe['a'].str.contains('Windows'),'Windows', 'Not Windows')"
   ]
  },
  {
   "cell_type": "markdown",
   "id": "3f6aa8cd",
   "metadata": {},
   "source": [
    "##### Organize the array created above by 'tz' and by the results of the Windows filter we specified into Dataframegroupby type"
   ]
  },
  {
   "cell_type": "code",
   "execution_count": 6,
   "id": "27384306",
   "metadata": {},
   "outputs": [],
   "source": [
    "by_tz_os = cframe.groupby(['tz', operating_system])"
   ]
  },
  {
   "cell_type": "markdown",
   "id": "981e2a79",
   "metadata": {},
   "source": [
    "##### Transform the above into a dataframe that indicates value counts. Windows/Not windows become columns while 'tz' become rows"
   ]
  },
  {
   "cell_type": "code",
   "execution_count": 7,
   "id": "3ca3bad0",
   "metadata": {},
   "outputs": [],
   "source": [
    "agg_counts = by_tz_os.size().unstack().fillna(0)"
   ]
  },
  {
   "cell_type": "markdown",
   "id": "36942837",
   "metadata": {},
   "source": [
    "#### Organize the above by value counts of 'tz'"
   ]
  },
  {
   "cell_type": "code",
   "execution_count": 8,
   "id": "331edcdc",
   "metadata": {},
   "outputs": [],
   "source": [
    "indexer = agg_counts.sum(1).argsort()"
   ]
  },
  {
   "cell_type": "markdown",
   "id": "88dbc85c",
   "metadata": {},
   "source": [
    "##### Using the result above, select the rows in the sorted order and remove the last 10 rows"
   ]
  },
  {
   "cell_type": "code",
   "execution_count": 9,
   "id": "b42dad79",
   "metadata": {},
   "outputs": [],
   "source": [
    "count_subset = agg_counts.take(indexer)[-10:]"
   ]
  },
  {
   "cell_type": "markdown",
   "id": "7548f0c9",
   "metadata": {},
   "source": [
    "##### Calculate the percentage of Windows/Not WIndows"
   ]
  },
  {
   "cell_type": "code",
   "execution_count": 17,
   "id": "ff1eb13a",
   "metadata": {},
   "outputs": [],
   "source": [
    "normed_subset = count_subset.div(count_subset.sum(1), axis=0)"
   ]
  },
  {
   "cell_type": "markdown",
   "id": "986621d9",
   "metadata": {},
   "source": [
    "##### Plot the results"
   ]
  },
  {
   "cell_type": "code",
   "execution_count": 11,
   "id": "0c7efc23",
   "metadata": {},
   "outputs": [],
   "source": [
    "##### "
   ]
  },
  {
   "cell_type": "code",
   "execution_count": null,
   "id": "134533ba",
   "metadata": {},
   "outputs": [],
   "source": []
  }
 ],
 "metadata": {
  "kernelspec": {
   "display_name": "Python 3",
   "language": "python",
   "name": "python3"
  },
  "language_info": {
   "codemirror_mode": {
    "name": "ipython",
    "version": 3
   },
   "file_extension": ".py",
   "mimetype": "text/x-python",
   "name": "python",
   "nbconvert_exporter": "python",
   "pygments_lexer": "ipython3",
   "version": "3.8.8"
  }
 },
 "nbformat": 4,
 "nbformat_minor": 5
}
