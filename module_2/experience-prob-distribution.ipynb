{
 "cells": [
  {
   "cell_type": "code",
   "execution_count": 6,
   "id": "55a9e16c",
   "metadata": {},
   "outputs": [],
   "source": [
    "import numpy as np\n",
    "import matplotlib.pyplot as plt\n",
    "from collections import Counter\n",
    "import random"
   ]
  },
  {
   "cell_type": "markdown",
   "id": "713c60c7",
   "metadata": {},
   "source": [
    "##### Q.1 \n",
    "\n",
    "Consider the loaded die with the following probabilities:\n",
    "```\n",
    "    p(1) = 0.3/6\n",
    "    p(2) = 0.7/6\n",
    "    p(3) =   2/6\n",
    "    p(4) = 0.5/6\n",
    "    p(5) = 0.2/6\n",
    "    p(6) = 2.3/6\n",
    "```\n"
   ]
  },
  {
   "cell_type": "markdown",
   "id": "dbe12bdf",
   "metadata": {},
   "source": [
    "##### Q.2 \n",
    "* Plot the probability distribution above\n",
    "  * Select the most appropriate visualization to do so."
   ]
  },
  {
   "cell_type": "code",
   "execution_count": 7,
   "id": "f519fe80",
   "metadata": {},
   "outputs": [
    {
     "data": {
      "text/plain": [
       "Text(0, 0.5, 'Probability')"
      ]
     },
     "execution_count": 7,
     "metadata": {},
     "output_type": "execute_result"
    },
    {
     "data": {
      "image/png": "[encoded data removed]",
      "text/plain": [
       "<Figure size 720x504 with 1 Axes>"
      ]
     },
     "metadata": {
      "needs_background": "light"
     },
     "output_type": "display_data"
    }
   ],
   "source": [
    "outcomes = list(range(1,7))\n",
    "probabilities = [0.3/6, 0.7/6, 2/6, 0.5/6, 0.2/6, 2.3/6]\n",
    "\n",
    "plt.figure(figsize=(10, 7))\n",
    "plt.bar(outcomes, probabilities)\n",
    "\n",
    "plt.xlabel('Dice Face Outcome')\n",
    "plt.ylabel('Probability')"
   ]
  },
  {
   "cell_type": "markdown",
   "id": "2bebd2a7",
   "metadata": {},
   "source": [
    "##### Q.3 \n",
    "* Based only on the plot above, can you predict the mean value of a random variable consisting of values obtaining from rolling a die  that follows the probability distribution given above? Explain your reasoning."
   ]
  },
  {
   "cell_type": "markdown",
   "id": "be25ba1d",
   "metadata": {},
   "source": [
    "A random variable assumes any given value from the sample space (given a probability), so the average value - or average random variable would be the statistic mean of (value) * (proabability of that value).\n",
    "\n",
    "That being said, it would then be possible to predict the mean value of a random variable given the probability distribution above. This would be calculated by multiplying each value, which in this case is the face of the dice: (1,...,6) by the probability of rolling each face then taking the average of these values.\n",
    "\n",
    "So, this would be: (1(0.3/6) + 2(0.7/6) + 3(2/6) + 4(0.5/6) + 5(0.2/6) + 6(2.3/6)) / 6 which is aabout .68. So the mean value of the random variable is .68."
   ]
  },
  {
   "cell_type": "markdown",
   "id": "007f6984",
   "metadata": {},
   "source": [
    "##### Q.4\n",
    "* Sample 5000 die rolls such that the probabilities of obtaining the values 1 through 6 are distributed according probabilities above. Use these samples to estimate the mean of the random variable. \n"
   ]
  },
  {
   "cell_type": "code",
   "execution_count": 21,
   "id": "768bc03c",
   "metadata": {},
   "outputs": [
    {
     "name": "stdout",
     "output_type": "stream",
     "text": [
      "The mean random variable is 0.6814\n"
     ]
    }
   ],
   "source": [
    "rolls = []\n",
    "total = 5000\n",
    "for i in range(5000):\n",
    "    roll_var = np.random.choice([1, 2, 3, 4, 5, 6], p=probabilities)\n",
    "    rolls.append(roll_var)\n",
    "\n",
    "face_counts = Counter(rolls)\n",
    "sort_rolls = dict(sorted(face_counts.items()))\n",
    "\n",
    "mean_random_variable = ((1*(sort_rolls[1]/total)) + (2*(sort_rolls[2]/total)) + (3*(sort_rolls[3]/total)) + (4*(sort_rolls[4]/total)) + (5*(sort_rolls[5]/total)) +\n",
    "(6*(sort_rolls[6]/total))) / 6\n",
    "print(f'The mean random variable is {mean_random_variable}')"
   ]
  },
  {
   "cell_type": "markdown",
   "id": "78152616",
   "metadata": {},
   "source": [
    "##### Q.5 \n",
    "\n",
    "* Does the mean match your prediction in Q.3 above? Explain your answer.\n"
   ]
  },
  {
   "cell_type": "markdown",
   "id": "87139e5c",
   "metadata": {},
   "source": [
    "Yes. The average mean value is about the same as the answer predicted in Q3 - meaning that after sampling 5000 rolls we were able to simulate the experiment and get the predicted mean random varable."
   ]
  }
 ],
 "metadata": {
  "kernelspec": {
   "display_name": "Python 3",
   "language": "python",
   "name": "python3"
  },
  "language_info": {
   "codemirror_mode": {
    "name": "ipython",
    "version": 3
   },
   "file_extension": ".py",
   "mimetype": "text/x-python",
   "name": "python",
   "nbconvert_exporter": "python",
   "pygments_lexer": "ipython3",
   "version": "3.8.8"
  }
 },
 "nbformat": 4,
 "nbformat_minor": 5
}
